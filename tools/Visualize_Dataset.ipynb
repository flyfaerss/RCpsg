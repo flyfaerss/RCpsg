{
 "cells": [
  {
   "cell_type": "markdown",
   "id": "8b7ae89d",
   "metadata": {},
   "source": [
    "# Let's Get Familiar with PSG Data"
   ]
  },
  {
   "cell_type": "code",
   "execution_count": 33,
   "id": "3f61e4a5",
   "metadata": {
    "ExecuteTime": {
     "start_time": "2023-04-20T18:42:15.698218Z",
     "end_time": "2023-04-20T18:42:15.827501Z"
    }
   },
   "outputs": [
    {
     "name": "stdout",
     "output_type": "stream",
     "text": [
      "The autoreload extension is already loaded. To reload it, use:\n",
      "  %reload_ext autoreload\n"
     ]
    }
   ],
   "source": [
    "%load_ext autoreload\n",
    "%autoreload 2\n",
    "\n",
    "import os\n",
    "\n",
    "from pathlib import Path\n",
    "import matplotlib.pyplot as plt\n",
    "import pprint\n",
    "\n",
    "import numpy as np\n",
    "\n",
    "from openpsg.utils.vis_tools.datasets import coco_dir\n",
    "from openpsg.utils.vis_tools.preprocess import load_json\n",
    "\n",
    "from detectron2.data.detection_utils import read_image\n",
    "from detectron2.utils.colormap import colormap\n",
    "from panopticapi.utils import rgb2id\n",
    "\n",
    "def get_colormap(num_colors: int):\n",
    "    return (np.resize(colormap(), (num_colors, 3))).tolist()"
   ]
  },
  {
   "cell_type": "markdown",
   "id": "e8570fcb",
   "metadata": {},
   "source": [
    "## Loading PSG Data"
   ]
  },
  {
   "cell_type": "markdown",
   "id": "73a5986c",
   "metadata": {},
   "source": [
    "This script help users to get familiar with PSG data.\n",
    "All PSG annotations are stored in `psg.json`.\n",
    "We also provide `tiny_psg.json`, which contains 1/4 size of original training and 1000 val samples to accelerate debugging process.\n",
    "We first load `psg.json`."
   ]
  },
  {
   "cell_type": "code",
   "execution_count": 34,
   "id": "ba111c91",
   "metadata": {
    "ExecuteTime": {
     "start_time": "2023-04-20T18:42:15.719351Z",
     "end_time": "2023-04-20T18:42:20.742581Z"
    }
   },
   "outputs": [
    {
     "name": "stdout",
     "output_type": "stream",
     "text": [
      "keys:  ['data', 'thing_classes', 'stuff_classes', 'predicate_classes', 'test_image_ids']\n"
     ]
    }
   ],
   "source": [
    "# set working path as home dir to easy access data\n",
    "os.chdir('..')\n",
    "psg_dataset_file = load_json(Path(\"/home/sylvia/yjr/sgg/OpenPSG/data/psg/psg.json\"))\n",
    "print('keys: ', list(psg_dataset_file.keys()))"
   ]
  },
  {
   "cell_type": "markdown",
   "id": "980a9e88",
   "metadata": {},
   "source": [
    "You can see that psg_dataset_file contains the label system represented by 'thing_classes', 'stuff_classes', 'predicate_classes'.\n",
    "'test_image_ids' shows the index for test (in fact validation set). Some details are as below."
   ]
  },
  {
   "cell_type": "code",
   "execution_count": 35,
   "id": "9c7cd0e0",
   "metadata": {
    "ExecuteTime": {
     "start_time": "2023-04-20T18:42:20.751726Z",
     "end_time": "2023-04-20T18:42:21.029212Z"
    }
   },
   "outputs": [
    {
     "name": "stdout",
     "output_type": "stream",
     "text": [
      "Number of images: 48749\n",
      "# Object Classes: 133\n",
      "# Relation Classes: 56\n"
     ]
    }
   ],
   "source": [
    "psg_thing_cats = psg_dataset_file['thing_classes']\n",
    "psg_stuff_cats = psg_dataset_file['stuff_classes']\n",
    "psg_obj_cats = psg_thing_cats + psg_stuff_cats\n",
    "psg_rel_cats = psg_dataset_file['predicate_classes']\n",
    "psg_dataset = {d[\"image_id\"]: d for d in psg_dataset_file['data']}\n",
    "# psg_dataset_coco_id = {d[\"coco_image_id\"]: d for d in psg_dataset_file['data']}\n",
    "\n",
    "print('Number of images: {}'.format(len(psg_dataset)))\n",
    "print('# Object Classes: {}'.format(len(psg_obj_cats)))\n",
    "print('# Relation Classes: {}'.format(len(psg_rel_cats)))"
   ]
  },
  {
   "cell_type": "markdown",
   "id": "b3caf216",
   "metadata": {},
   "source": [
    "## Visualize PSG data"
   ]
  },
  {
   "cell_type": "code",
   "execution_count": 36,
   "id": "bbb2d5f0",
   "metadata": {
    "ExecuteTime": {
     "start_time": "2023-04-20T18:42:21.029049Z",
     "end_time": "2023-04-20T18:42:21.101007Z"
    }
   },
   "outputs": [
    {
     "name": "stdout",
     "output_type": "stream",
     "text": [
      "keys:  ['file_name', 'height', 'width', 'image_id', 'pan_seg_file_name', 'segments_info', 'relations', 'annotations', 'coco_image_id']\n"
     ]
    }
   ],
   "source": [
    "example_img_id = '107902' # '000000039785' #\n",
    "data = psg_dataset[example_img_id]\n",
    "print('keys: ', list(psg_dataset[example_img_id].keys()))"
   ]
  },
  {
   "cell_type": "code",
   "execution_count": 37,
   "id": "a154c6dd",
   "metadata": {
    "ExecuteTime": {
     "start_time": "2023-04-20T18:42:21.054888Z",
     "end_time": "2023-04-20T18:42:21.102296Z"
    }
   },
   "outputs": [
    {
     "name": "stdout",
     "output_type": "stream",
     "text": [
      "{'coco_image_id': '417720',\n",
      " 'file_name': 'train2017/000000417720.jpg',\n",
      " 'height': 640,\n",
      " 'image_id': '107902',\n",
      " 'pan_seg_file_name': 'panoptic_train2017/000000417720.png',\n",
      " 'width': 480}\n"
     ]
    }
   ],
   "source": [
    "# first check values other than ['pan_seg_file_name', 'segments_info', 'relations', 'annotations']\n",
    "data_simple = {}\n",
    "for k in data:\n",
    "    if k not in ['segments_info', 'relations', 'annotations']:\n",
    "        data_simple[k] = data[k]\n",
    "pprint.pprint(data_simple)"
   ]
  },
  {
   "cell_type": "code",
   "execution_count": 38,
   "id": "8381f9a5",
   "metadata": {
    "ExecuteTime": {
     "start_time": "2023-04-20T18:42:21.078034Z",
     "end_time": "2023-04-20T18:42:21.102855Z"
    }
   },
   "outputs": [
    {
     "name": "stdout",
     "output_type": "stream",
     "text": [
      "[{'area': 42555, 'category_id': 0, 'id': 3648962, 'iscrowd': 0, 'isthing': 1},\n",
      " {'area': 45880, 'category_id': 0, 'id': 3293004, 'iscrowd': 0, 'isthing': 1},\n",
      " {'area': 22774, 'category_id': 25, 'id': 4470325, 'iscrowd': 0, 'isthing': 1},\n",
      " {'area': 48824, 'category_id': 116, 'id': 4545879, 'iscrowd': 0, 'isthing': 0},\n",
      " {'area': 44811, 'category_id': 117, 'id': 7633023, 'iscrowd': 0, 'isthing': 0},\n",
      " {'area': 3417, 'category_id': 119, 'id': 14079701, 'iscrowd': 0, 'isthing': 0},\n",
      " {'area': 97238, 'category_id': 125, 'id': 3504233, 'iscrowd': 0, 'isthing': 0}]\n"
     ]
    }
   ],
   "source": [
    "pprint.pprint(data['segments_info'])"
   ]
  },
  {
   "cell_type": "code",
   "execution_count": 39,
   "id": "92f935cf",
   "metadata": {
    "ExecuteTime": {
     "start_time": "2023-04-20T18:42:21.099159Z",
     "end_time": "2023-04-20T18:42:21.182765Z"
    }
   },
   "outputs": [
    {
     "name": "stdout",
     "output_type": "stream",
     "text": [
      "[{'bbox': [49.0, 162.0, 207.0, 617.0], 'bbox_mode': 0, 'category_id': 0},\n",
      " {'bbox': [259.0, 158.0, 397.0, 631.0], 'bbox_mode': 0, 'category_id': 0},\n",
      " {'bbox': [157.0, 75.0, 469.0, 279.0], 'bbox_mode': 0, 'category_id': 25},\n",
      " {'bbox': [0.0, 0.0, 480.0, 131.0], 'bbox_mode': 0, 'category_id': 116},\n",
      " {'bbox': [0.0, 112.0, 480.0, 323.0], 'bbox_mode': 0, 'category_id': 117},\n",
      " {'bbox': [215.0, 0.0, 480.0, 54.0], 'bbox_mode': 0, 'category_id': 119},\n",
      " {'bbox': [0.0, 285.0, 480.0, 640.0], 'bbox_mode': 0, 'category_id': 125}]\n"
     ]
    }
   ],
   "source": [
    "pprint.pprint(data['annotations'])"
   ]
  },
  {
   "cell_type": "code",
   "execution_count": 40,
   "id": "c63dfc79",
   "metadata": {
    "ExecuteTime": {
     "start_time": "2023-04-20T18:42:21.143464Z",
     "end_time": "2023-04-20T18:42:21.197381Z"
    }
   },
   "outputs": [
    {
     "name": "stdout",
     "output_type": "stream",
     "text": [
      "[[0, 1, 2], [0, 6, 14], [1, 2, 21], [1, 6, 14], [4, 3, 1], [5, 3, 0]]\n"
     ]
    }
   ],
   "source": [
    "pprint.pprint(data['relations'])"
   ]
  },
  {
   "cell_type": "code",
   "execution_count": 41,
   "id": "3df72a14",
   "metadata": {},
   "outputs": [
    {
     "ename": "FileNotFoundError",
     "evalue": "[Errno 2] No such file or directory: 'data/coco/train2017/000000417720.jpg'",
     "output_type": "error",
     "traceback": [
      "\u001B[0;31m---------------------------------------------------------------------------\u001B[0m",
      "\u001B[0;31mFileNotFoundError\u001B[0m                         Traceback (most recent call last)",
      "\u001B[0;32m<ipython-input-41-12b6d36ee1aa>\u001B[0m in \u001B[0;36m<module>\u001B[0;34m\u001B[0m\n\u001B[1;32m      1\u001B[0m \u001B[0;31m# show origin image\u001B[0m\u001B[0;34m\u001B[0m\u001B[0;34m\u001B[0m\u001B[0;34m\u001B[0m\u001B[0m\n\u001B[0;32m----> 2\u001B[0;31m \u001B[0mimg\u001B[0m \u001B[0;34m=\u001B[0m \u001B[0mread_image\u001B[0m\u001B[0;34m(\u001B[0m\u001B[0mcoco_dir\u001B[0m \u001B[0;34m/\u001B[0m \u001B[0mdata\u001B[0m\u001B[0;34m[\u001B[0m\u001B[0;34m\"file_name\"\u001B[0m\u001B[0;34m]\u001B[0m\u001B[0;34m,\u001B[0m \u001B[0mformat\u001B[0m\u001B[0;34m=\u001B[0m\u001B[0;34m\"RGB\"\u001B[0m\u001B[0;34m)\u001B[0m\u001B[0;34m\u001B[0m\u001B[0;34m\u001B[0m\u001B[0m\n\u001B[0m\u001B[1;32m      3\u001B[0m \u001B[0mplt\u001B[0m\u001B[0;34m.\u001B[0m\u001B[0mimshow\u001B[0m\u001B[0;34m(\u001B[0m\u001B[0mimg\u001B[0m\u001B[0;34m)\u001B[0m\u001B[0;34m\u001B[0m\u001B[0;34m\u001B[0m\u001B[0m\n\u001B[1;32m      4\u001B[0m \u001B[0mplt\u001B[0m\u001B[0;34m.\u001B[0m\u001B[0mshow\u001B[0m\u001B[0;34m(\u001B[0m\u001B[0;34m)\u001B[0m\u001B[0;34m\u001B[0m\u001B[0;34m\u001B[0m\u001B[0m\n",
      "\u001B[0;32m~/anaconda3/envs/scene_graph_benchmark38/lib/python3.8/site-packages/detectron2/data/detection_utils.py\u001B[0m in \u001B[0;36mread_image\u001B[0;34m(file_name, format)\u001B[0m\n\u001B[1;32m    178\u001B[0m             \u001B[0msupported\u001B[0m \u001B[0mimage\u001B[0m \u001B[0mmodes\u001B[0m \u001B[0;32min\u001B[0m \u001B[0mPIL\u001B[0m \u001B[0;32mor\u001B[0m \u001B[0;34m\"BGR\"\u001B[0m\u001B[0;34m;\u001B[0m \u001B[0mfloat\u001B[0m \u001B[0;34m(\u001B[0m\u001B[0;36m0\u001B[0m\u001B[0;34m-\u001B[0m\u001B[0;36m1\u001B[0m \u001B[0;32mfor\u001B[0m \u001B[0mY\u001B[0m\u001B[0;34m)\u001B[0m \u001B[0;32mfor\u001B[0m \u001B[0mYUV\u001B[0m\u001B[0;34m-\u001B[0m\u001B[0mBT\u001B[0m\u001B[0;36m.601\u001B[0m\u001B[0;34m.\u001B[0m\u001B[0;34m\u001B[0m\u001B[0;34m\u001B[0m\u001B[0m\n\u001B[1;32m    179\u001B[0m     \"\"\"\n\u001B[0;32m--> 180\u001B[0;31m     \u001B[0;32mwith\u001B[0m \u001B[0mPathManager\u001B[0m\u001B[0;34m.\u001B[0m\u001B[0mopen\u001B[0m\u001B[0;34m(\u001B[0m\u001B[0mfile_name\u001B[0m\u001B[0;34m,\u001B[0m \u001B[0;34m\"rb\"\u001B[0m\u001B[0;34m)\u001B[0m \u001B[0;32mas\u001B[0m \u001B[0mf\u001B[0m\u001B[0;34m:\u001B[0m\u001B[0;34m\u001B[0m\u001B[0;34m\u001B[0m\u001B[0m\n\u001B[0m\u001B[1;32m    181\u001B[0m         \u001B[0mimage\u001B[0m \u001B[0;34m=\u001B[0m \u001B[0mImage\u001B[0m\u001B[0;34m.\u001B[0m\u001B[0mopen\u001B[0m\u001B[0;34m(\u001B[0m\u001B[0mf\u001B[0m\u001B[0;34m)\u001B[0m\u001B[0;34m\u001B[0m\u001B[0;34m\u001B[0m\u001B[0m\n\u001B[1;32m    182\u001B[0m \u001B[0;34m\u001B[0m\u001B[0m\n",
      "\u001B[0;32m~/anaconda3/envs/scene_graph_benchmark38/lib/python3.8/site-packages/iopath/common/file_io.py\u001B[0m in \u001B[0;36mopen\u001B[0;34m(self, path, mode, buffering, **kwargs)\u001B[0m\n\u001B[1;32m    927\u001B[0m             \u001B[0mfile\u001B[0m\u001B[0;34m:\u001B[0m \u001B[0ma\u001B[0m \u001B[0mfile\u001B[0m\u001B[0;34m-\u001B[0m\u001B[0mlike\u001B[0m \u001B[0mobject\u001B[0m\u001B[0;34m.\u001B[0m\u001B[0;34m\u001B[0m\u001B[0;34m\u001B[0m\u001B[0m\n\u001B[1;32m    928\u001B[0m         \"\"\"\n\u001B[0;32m--> 929\u001B[0;31m         return self.__get_path_handler(path)._open(  # type: ignore\n\u001B[0m\u001B[1;32m    930\u001B[0m             \u001B[0mpath\u001B[0m\u001B[0;34m,\u001B[0m \u001B[0mmode\u001B[0m\u001B[0;34m,\u001B[0m \u001B[0mbuffering\u001B[0m\u001B[0;34m=\u001B[0m\u001B[0mbuffering\u001B[0m\u001B[0;34m,\u001B[0m \u001B[0;34m**\u001B[0m\u001B[0mkwargs\u001B[0m\u001B[0;34m\u001B[0m\u001B[0;34m\u001B[0m\u001B[0m\n\u001B[1;32m    931\u001B[0m         )\n",
      "\u001B[0;32m~/anaconda3/envs/scene_graph_benchmark38/lib/python3.8/site-packages/iopath/common/file_io.py\u001B[0m in \u001B[0;36m_open\u001B[0;34m(self, path, mode, buffering, encoding, errors, newline, closefd, opener, **kwargs)\u001B[0m\n\u001B[1;32m    587\u001B[0m         \"\"\"\n\u001B[1;32m    588\u001B[0m         \u001B[0mself\u001B[0m\u001B[0;34m.\u001B[0m\u001B[0m_check_kwargs\u001B[0m\u001B[0;34m(\u001B[0m\u001B[0mkwargs\u001B[0m\u001B[0;34m)\u001B[0m\u001B[0;34m\u001B[0m\u001B[0;34m\u001B[0m\u001B[0m\n\u001B[0;32m--> 589\u001B[0;31m         return open(  # type: ignore\n\u001B[0m\u001B[1;32m    590\u001B[0m             \u001B[0mself\u001B[0m\u001B[0;34m.\u001B[0m\u001B[0m_get_path_with_cwd\u001B[0m\u001B[0;34m(\u001B[0m\u001B[0mpath\u001B[0m\u001B[0;34m)\u001B[0m\u001B[0;34m,\u001B[0m\u001B[0;34m\u001B[0m\u001B[0;34m\u001B[0m\u001B[0m\n\u001B[1;32m    591\u001B[0m             \u001B[0mmode\u001B[0m\u001B[0;34m,\u001B[0m\u001B[0;34m\u001B[0m\u001B[0;34m\u001B[0m\u001B[0m\n",
      "\u001B[0;31mFileNotFoundError\u001B[0m: [Errno 2] No such file or directory: 'data/coco/train2017/000000417720.jpg'"
     ]
    }
   ],
   "source": [
    "# show origin image\n",
    "img = read_image(coco_dir / data[\"file_name\"], format=\"RGB\")\n",
    "plt.imshow(img)\n",
    "plt.show()"
   ]
  },
  {
   "cell_type": "code",
   "execution_count": null,
   "id": "d004aec0",
   "metadata": {},
   "outputs": [],
   "source": [
    "# show segments image\n",
    "seg_map = read_image(coco_dir / data[\"pan_seg_file_name\"], format=\"RGB\")\n",
    "plt.imshow(seg_map)\n",
    "plt.show()\n",
    "# show seg annotations\n",
    "seg_map = rgb2id(seg_map)\n",
    "print('Segments IDs: ', np.unique(seg_map))\n",
    "print('Segments Annotations: ')\n",
    "pprint.pprint(data[\"segments_info\"])"
   ]
  },
  {
   "cell_type": "code",
   "execution_count": null,
   "id": "96967b6e",
   "metadata": {},
   "outputs": [],
   "source": [
    "# get seperate masks\n",
    "masks = []\n",
    "labels_coco = []\n",
    "for i, s in enumerate(data[\"segments_info\"]):\n",
    "    label = psg_obj_cats[s[\"category_id\"]]\n",
    "    labels_coco.append(label)\n",
    "    masks.append(seg_map == s[\"id\"])"
   ]
  },
  {
   "cell_type": "code",
   "execution_count": null,
   "id": "85e81432",
   "metadata": {},
   "outputs": [],
   "source": [
    "# generate colormap for masks\n",
    "colormap_coco = get_colormap(len(data[\"segments_info\"]))\n",
    "colormap_coco = (np.array(colormap_coco) / 255).tolist()"
   ]
  },
  {
   "cell_type": "code",
   "execution_count": null,
   "id": "39ee376e",
   "metadata": {},
   "outputs": [],
   "source": [
    "# show label and corresponding color\n",
    "plt.figure(figsize=(10, 4), dpi=80)\n",
    "plt.xticks(range(len(labels_coco)), labels_coco, fontsize=10)\n",
    "plt.imshow(np.array(colormap_coco).reshape(1,-1,3))\n",
    "plt.show()"
   ]
  },
  {
   "cell_type": "code",
   "execution_count": null,
   "id": "ca864ba3",
   "metadata": {},
   "outputs": [],
   "source": [
    "from vis_tools.detectron_viz import Visualizer\n",
    "viz = Visualizer(img)\n",
    "viz.overlay_instances(\n",
    "    labels=labels_coco,\n",
    "    masks=masks,\n",
    "    assigned_colors=colormap_coco,\n",
    ")\n",
    "viz_img = viz.get_output().get_image()\n",
    "plt.figure(figsize=(10,10))\n",
    "plt.imshow(viz_img)\n",
    "plt.axis('off')\n",
    "plt.show()"
   ]
  },
  {
   "cell_type": "code",
   "execution_count": null,
   "id": "f022d89a",
   "metadata": {
    "scrolled": false
   },
   "outputs": [],
   "source": [
    "# show triplets\n",
    "for s_idx, o_idx, rel_id in data[\"relations\"]:\n",
    "    s_label = labels_coco[s_idx]\n",
    "    o_label = labels_coco[o_idx]\n",
    "    rel_label = psg_rel_cats[rel_id]\n",
    "    print(s_label, rel_label, o_label)"
   ]
  }
 ],
 "metadata": {
  "interpreter": {
   "hash": "d9556aabd45e425d06d41ada76857972804f185221de02d176a57431ebd38de6"
  },
  "kernelspec": {
   "display_name": "Python 3 (ipykernel)",
   "language": "python",
   "name": "python3"
  },
  "language_info": {
   "codemirror_mode": {
    "name": "ipython",
    "version": 3
   },
   "file_extension": ".py",
   "mimetype": "text/x-python",
   "name": "python",
   "nbconvert_exporter": "python",
   "pygments_lexer": "ipython3",
   "version": "3.7.11"
  }
 },
 "nbformat": 4,
 "nbformat_minor": 5
}
